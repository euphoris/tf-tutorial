{
  "nbformat": 4,
  "nbformat_minor": 0,
  "metadata": {
    "colab": {
      "name": "word-embedding.ipynb",
      "provenance": [],
      "collapsed_sections": []
    },
    "kernelspec": {
      "name": "python3",
      "display_name": "Python 3"
    }
  },
  "cells": [
    {
      "cell_type": "code",
      "metadata": {
        "id": "-OCETQDB_6Gg",
        "colab_type": "code",
        "colab": {},
        "cellView": "form"
      },
      "source": [
        "#@title Download a pre-trained model\n",
        "\n",
        "model_name = 'word2vec' #@param ['word2vec', 'fasttext'] {type:\"raw\"}\n",
        "\n",
        "if model_name == 'word2vec':\n",
        "    !wget --load-cookies /tmp/cookies.txt \"https://docs.google.com/uc?export=download&confirm=$(wget --quiet --save-cookies /tmp/cookies.txt --keep-session-cookies --no-check-certificate 'https://docs.google.com/uc?export=download&id=0B0ZXk88koS2KbDhXdWg1Q2RydlU' -O- | sed -rn 's/.*confirm=([0-9A-Za-z_]+).*/\\1\\n/p')&id=0B0ZXk88koS2KbDhXdWg1Q2RydlU\" -O ko.word2vec.bin && rm -rf /tmp/cookies.txt\n",
        "    !unzip ko.word2vec.zip\n",
        "else:\n",
        "    !wget -c https://dl.fbaipublicfiles.com/fasttext/vectors-crawl/cc.ko.300.bin.gz"
      ],
      "execution_count": null,
      "outputs": []
    },
    {
      "cell_type": "code",
      "metadata": {
        "id": "J4HDMO0Z5Kk6",
        "colab_type": "code",
        "colab": {}
      },
      "source": [
        "import gensim"
      ],
      "execution_count": 13,
      "outputs": []
    },
    {
      "cell_type": "code",
      "metadata": {
        "id": "G9-I4gbA7Ejl",
        "colab_type": "code",
        "colab": {
          "base_uri": "https://localhost:8080/",
          "height": 71
        },
        "outputId": "33b90c94-fce7-4ff0-fa5f-4bcfba261873"
      },
      "source": [
        "model = gensim.models.Word2Vec.load('ko.bin')"
      ],
      "execution_count": 20,
      "outputs": [
        {
          "output_type": "stream",
          "text": [
            "/usr/local/lib/python3.6/dist-packages/smart_open/smart_open_lib.py:253: UserWarning: This function is deprecated, use smart_open.open instead. See the migration notes for details: https://github.com/RaRe-Technologies/smart_open/blob/master/README.rst#migrating-to-the-new-open-function\n",
            "  'See the migration notes for details: %s' % _MIGRATION_NOTES_URL\n"
          ],
          "name": "stderr"
        }
      ]
    },
    {
      "cell_type": "code",
      "metadata": {
        "id": "tS87ZjDqBN6K",
        "colab_type": "code",
        "colab": {
          "base_uri": "https://localhost:8080/",
          "height": 714
        },
        "outputId": "06267320-bab0-4391-a38f-194c8ca14db1"
      },
      "source": [
        "model.wv['강아지']"
      ],
      "execution_count": 22,
      "outputs": [
        {
          "output_type": "execute_result",
          "data": {
            "text/plain": [
              "array([ 0.28099054, -0.19049376,  0.31788886, -0.29404902, -0.6012117 ,\n",
              "       -0.25619242,  0.0061479 ,  0.51780385,  0.3608627 , -0.27890292,\n",
              "        0.3753059 ,  0.45682365,  0.25841945,  0.29509434,  0.31509322,\n",
              "        0.53255475, -0.3150408 ,  0.28672394,  0.32292762, -0.11534653,\n",
              "        0.24962434, -0.31804952,  0.02379435,  0.34782323, -0.5428502 ,\n",
              "       -0.31428298,  0.81061304,  0.7245631 ,  0.04309795, -1.0204421 ,\n",
              "        0.10398801,  0.2138965 ,  0.10057439, -0.03146021,  0.0894748 ,\n",
              "       -0.40986905,  0.11873247,  0.2684793 , -0.6372648 ,  0.36586553,\n",
              "       -0.15963972,  0.3209763 , -0.6995127 , -1.1059827 ,  0.37646636,\n",
              "       -0.82615834,  0.12098166, -0.04935855, -0.5623957 ,  0.1068015 ,\n",
              "        0.2640723 ,  0.6015352 ,  0.31571352, -0.37577182, -0.5941042 ,\n",
              "        0.1046523 , -0.16794747,  0.36965755,  0.18888052, -0.18799411,\n",
              "        0.13297085,  0.13900231, -0.25006363, -0.7406368 ,  0.1037019 ,\n",
              "       -0.18334036, -0.17581826,  0.08528292, -0.07013045,  0.4557973 ,\n",
              "        0.37055275, -0.22271334,  0.09749056,  0.10634632,  0.18990633,\n",
              "       -0.09005074, -0.22670963,  0.75300676,  0.13844779, -0.41718212,\n",
              "        0.6000683 , -0.30188912,  0.26127213, -0.3209932 , -0.5287037 ,\n",
              "       -0.1133441 ,  0.08414213, -0.39975765, -0.7438005 ,  0.10611001,\n",
              "       -0.03223223, -0.65717345, -0.39624402, -0.4745818 ,  0.0611662 ,\n",
              "        0.57635117,  0.5629448 ,  0.05996709,  0.57418245,  0.2593086 ,\n",
              "       -0.1843771 ,  0.14862894,  0.03104451, -0.5595105 , -0.3311095 ,\n",
              "       -0.25353086,  0.1952255 , -0.7322556 , -0.1989108 ,  0.01353099,\n",
              "        0.3498427 ,  0.07084652, -0.24956252, -0.42642623, -0.30416694,\n",
              "       -0.05685856, -0.4886381 , -0.17410545,  0.02824506,  0.14894816,\n",
              "        0.05410662,  0.17372012, -0.24593355, -0.6957402 , -0.21098216,\n",
              "        0.17299318, -0.5482991 ,  0.07412893,  0.6804218 ,  0.05489316,\n",
              "        0.05333278,  0.03257329, -0.16544367,  0.98487836,  0.7784035 ,\n",
              "       -0.07689387, -0.31263638, -0.12760893,  0.3472611 , -0.23108876,\n",
              "        0.3307572 ,  0.37202093,  0.5539822 , -0.28727153,  0.77605385,\n",
              "       -0.73754156, -0.32367602, -0.22861145, -0.93935126, -0.4357149 ,\n",
              "        0.09146321,  0.00202421, -0.18067713,  0.0855972 ,  0.6506427 ,\n",
              "       -0.305275  ,  0.2780998 ,  0.6330918 , -0.29751784, -0.17027308,\n",
              "       -0.31517255, -0.3317247 ,  0.02422439, -0.57917964, -0.33995405,\n",
              "       -0.42761254,  0.25798827, -0.34237063, -0.52633345,  0.09533058,\n",
              "       -0.677217  ,  0.05363021,  0.32125086,  0.4909405 , -0.43493816,\n",
              "       -0.09290602,  0.10552456, -0.10498507, -0.35929582,  0.19515191,\n",
              "       -0.40012205,  0.16228692,  0.46461752,  0.2952616 ,  0.25597256,\n",
              "        0.6133663 , -0.41785526,  0.18643484,  0.06804469,  0.87485284,\n",
              "        0.1482679 ,  0.42763233,  0.18914135,  0.20274666, -0.59800595,\n",
              "       -0.07481332, -0.13797177, -0.4698542 , -0.02073322, -0.31658322],\n",
              "      dtype=float32)"
            ]
          },
          "metadata": {
            "tags": []
          },
          "execution_count": 22
        }
      ]
    },
    {
      "cell_type": "code",
      "metadata": {
        "id": "da4PI6sqBPtn",
        "colab_type": "code",
        "colab": {
          "base_uri": "https://localhost:8080/",
          "height": 221
        },
        "outputId": "3a6f402c-4af7-4af9-9499-a99699ab49bd"
      },
      "source": [
        "model.wv.most_similar('강아지')"
      ],
      "execution_count": 23,
      "outputs": [
        {
          "output_type": "stream",
          "text": [
            "/usr/local/lib/python3.6/dist-packages/gensim/matutils.py:737: FutureWarning: Conversion of the second argument of issubdtype from `int` to `np.signedinteger` is deprecated. In future, it will be treated as `np.int64 == np.dtype(int).type`.\n",
            "  if np.issubdtype(vec.dtype, np.int):\n"
          ],
          "name": "stderr"
        },
        {
          "output_type": "execute_result",
          "data": {
            "text/plain": [
              "[('고양이', 0.7290452718734741),\n",
              " ('거위', 0.7185635566711426),\n",
              " ('토끼', 0.7056223154067993),\n",
              " ('멧돼지', 0.6950401067733765),\n",
              " ('엄마', 0.6934334635734558),\n",
              " ('난쟁이', 0.6806551218032837),\n",
              " ('한마리', 0.6770296096801758),\n",
              " ('아가씨', 0.6750352382659912),\n",
              " ('아빠', 0.6729634404182434),\n",
              " ('목걸이', 0.6512460708618164)]"
            ]
          },
          "metadata": {
            "tags": []
          },
          "execution_count": 23
        }
      ]
    },
    {
      "cell_type": "code",
      "metadata": {
        "id": "5Ckz7hoLAqhS",
        "colab_type": "code",
        "colab": {
          "base_uri": "https://localhost:8080/",
          "height": 221
        },
        "outputId": "cc6b6932-5649-4ce3-982d-71d3c0d8b610"
      },
      "source": [
        "model.wv.most_similar(positive=['서울', '미국'], negative=['대한민국'])"
      ],
      "execution_count": 31,
      "outputs": [
        {
          "output_type": "stream",
          "text": [
            "/usr/local/lib/python3.6/dist-packages/gensim/matutils.py:737: FutureWarning: Conversion of the second argument of issubdtype from `int` to `np.signedinteger` is deprecated. In future, it will be treated as `np.int64 == np.dtype(int).type`.\n",
            "  if np.issubdtype(vec.dtype, np.int):\n"
          ],
          "name": "stderr"
        },
        {
          "output_type": "execute_result",
          "data": {
            "text/plain": [
              "[('뉴욕', 0.5397912263870239),\n",
              " ('보스턴', 0.534631073474884),\n",
              " ('런던', 0.5306592583656311),\n",
              " ('시카고', 0.5073042511940002),\n",
              " ('뉴욕시', 0.4832698702812195),\n",
              " ('필라델피아', 0.4699663519859314),\n",
              " ('버밍엄', 0.4575195908546448),\n",
              " ('시애틀', 0.4535732567310333),\n",
              " ('베를린', 0.4532378017902374),\n",
              " ('댈러스', 0.4453440010547638)]"
            ]
          },
          "metadata": {
            "tags": []
          },
          "execution_count": 31
        }
      ]
    }
  ]
}