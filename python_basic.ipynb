{
  "nbformat": 4,
  "nbformat_minor": 0,
  "metadata": {
    "jupytext": {
      "cell_metadata_filter": "-all",
      "main_language": "python",
      "notebook_metadata_filter": "-all"
    },
    "colab": {
      "name": "python_basic.ipynb",
      "provenance": []
    },
    "kernelspec": {
      "name": "python3",
      "display_name": "Python 3"
    }
  },
  "cells": [
    {
      "cell_type": "markdown",
      "metadata": {
        "id": "7nw-ham7JFdj",
        "colab_type": "text"
      },
      "source": [
        "## 간단한 계산\n",
        "\n",
        "덧셈"
      ]
    },
    {
      "cell_type": "code",
      "metadata": {
        "id": "toT5kfQqJFdk",
        "colab_type": "code",
        "colab": {
          "base_uri": "https://localhost:8080/",
          "height": 34
        },
        "outputId": "984cce0b-a5fc-4991-b87b-bf4f5702bcdc"
      },
      "source": [
        "1 + 2"
      ],
      "execution_count": 1,
      "outputs": [
        {
          "output_type": "execute_result",
          "data": {
            "text/plain": [
              "3"
            ]
          },
          "metadata": {
            "tags": []
          },
          "execution_count": 1
        }
      ]
    },
    {
      "cell_type": "markdown",
      "metadata": {
        "id": "oRxstoduJFdn",
        "colab_type": "text"
      },
      "source": [
        "뺄셈"
      ]
    },
    {
      "cell_type": "code",
      "metadata": {
        "id": "wRkwjHXgJFdo",
        "colab_type": "code",
        "colab": {
          "base_uri": "https://localhost:8080/",
          "height": 34
        },
        "outputId": "cff7f020-1316-4bef-d54f-6adffc2f6cc4"
      },
      "source": [
        "5 - 3"
      ],
      "execution_count": 2,
      "outputs": [
        {
          "output_type": "execute_result",
          "data": {
            "text/plain": [
              "2"
            ]
          },
          "metadata": {
            "tags": []
          },
          "execution_count": 2
        }
      ]
    },
    {
      "cell_type": "markdown",
      "metadata": {
        "id": "MWULiSxmJFdq",
        "colab_type": "text"
      },
      "source": [
        "곱셈"
      ]
    },
    {
      "cell_type": "code",
      "metadata": {
        "id": "JjkWjHOzJFdr",
        "colab_type": "code",
        "colab": {
          "base_uri": "https://localhost:8080/",
          "height": 34
        },
        "outputId": "aaffde72-9a95-492e-c6d4-b081d8a06b86"
      },
      "source": [
        "7 * 3"
      ],
      "execution_count": 3,
      "outputs": [
        {
          "output_type": "execute_result",
          "data": {
            "text/plain": [
              "21"
            ]
          },
          "metadata": {
            "tags": []
          },
          "execution_count": 3
        }
      ]
    },
    {
      "cell_type": "markdown",
      "metadata": {
        "id": "aHh1_9WHJFdt",
        "colab_type": "text"
      },
      "source": [
        "나눗셈"
      ]
    },
    {
      "cell_type": "code",
      "metadata": {
        "id": "o8DAaLGdJFdt",
        "colab_type": "code",
        "colab": {
          "base_uri": "https://localhost:8080/",
          "height": 34
        },
        "outputId": "95f69a10-69be-4820-af44-2d9462f73ee0"
      },
      "source": [
        "8 / 2"
      ],
      "execution_count": 4,
      "outputs": [
        {
          "output_type": "execute_result",
          "data": {
            "text/plain": [
              "4.0"
            ]
          },
          "metadata": {
            "tags": []
          },
          "execution_count": 4
        }
      ]
    },
    {
      "cell_type": "markdown",
      "metadata": {
        "id": "-C1MhxOOJFdv",
        "colab_type": "text"
      },
      "source": [
        "곱셈과 나눗셈을 덧셈과 뺄셈보다 먼저한다."
      ]
    },
    {
      "cell_type": "code",
      "metadata": {
        "id": "VslWQCwSJFdw",
        "colab_type": "code",
        "colab": {
          "base_uri": "https://localhost:8080/",
          "height": 34
        },
        "outputId": "ed0e8337-55d3-447f-efba-5f25c57e7aa1"
      },
      "source": [
        "1 + 2 * 3"
      ],
      "execution_count": 5,
      "outputs": [
        {
          "output_type": "execute_result",
          "data": {
            "text/plain": [
              "7"
            ]
          },
          "metadata": {
            "tags": []
          },
          "execution_count": 5
        }
      ]
    },
    {
      "cell_type": "markdown",
      "metadata": {
        "id": "T4HEjFqoJFdy",
        "colab_type": "text"
      },
      "source": [
        "괄호 안을 먼저 계산한다."
      ]
    },
    {
      "cell_type": "code",
      "metadata": {
        "id": "MQP86ftLJFdy",
        "colab_type": "code",
        "colab": {
          "base_uri": "https://localhost:8080/",
          "height": 34
        },
        "outputId": "4041712b-f03d-4bd7-f8f7-806c496652d5"
      },
      "source": [
        "(1 + 2) * 3"
      ],
      "execution_count": 6,
      "outputs": [
        {
          "output_type": "execute_result",
          "data": {
            "text/plain": [
              "9"
            ]
          },
          "metadata": {
            "tags": []
          },
          "execution_count": 6
        }
      ]
    },
    {
      "cell_type": "markdown",
      "metadata": {
        "id": "KeBV_CwMJFd1",
        "colab_type": "text"
      },
      "source": [
        "괄호는 둥근 괄호만 사용한다. 괄호를 여러 개 겹쳐 쓸 경우 안쪽 괄호부터 계산을 한다."
      ]
    },
    {
      "cell_type": "code",
      "metadata": {
        "id": "0f43JS69JFd1",
        "colab_type": "code",
        "colab": {
          "base_uri": "https://localhost:8080/",
          "height": 34
        },
        "outputId": "02127d30-b30a-43db-ba76-d668b86a4aa6"
      },
      "source": [
        "(1 + (3 - 2)) * 4"
      ],
      "execution_count": 7,
      "outputs": [
        {
          "output_type": "execute_result",
          "data": {
            "text/plain": [
              "8"
            ]
          },
          "metadata": {
            "tags": []
          },
          "execution_count": 7
        }
      ]
    },
    {
      "cell_type": "markdown",
      "metadata": {
        "id": "drqr-BHeJFd3",
        "colab_type": "text"
      },
      "source": [
        "## 변수\n",
        "\n",
        "프로그래밍에서는 계산이나 처리의 대상을 값이라 한다. 변수는 이 값을 담는 그릇에 해당한다. 파이썬에서는 `=`을 이용해 변수를 할당한다. `=`은 수학에서와 달리 \"같다\"를 나타내지 않는다. 아래 식은 변수 `a`에 값 `1`을 할당한다."
      ]
    },
    {
      "cell_type": "code",
      "metadata": {
        "id": "_2q_BPVWJFd4",
        "colab_type": "code",
        "colab": {}
      },
      "source": [
        "a = 1"
      ],
      "execution_count": 8,
      "outputs": []
    },
    {
      "cell_type": "markdown",
      "metadata": {
        "id": "NyQR66E_JFd6",
        "colab_type": "text"
      },
      "source": [
        "이제 `a`는 `1`을 가리킨다."
      ]
    },
    {
      "cell_type": "code",
      "metadata": {
        "id": "YUDeuUOrJFd6",
        "colab_type": "code",
        "colab": {
          "base_uri": "https://localhost:8080/",
          "height": 34
        },
        "outputId": "2ec06f43-cb2a-4c24-99ec-68ff1e956ca2"
      },
      "source": [
        "a"
      ],
      "execution_count": 9,
      "outputs": [
        {
          "output_type": "execute_result",
          "data": {
            "text/plain": [
              "1"
            ]
          },
          "metadata": {
            "tags": []
          },
          "execution_count": 9
        }
      ]
    },
    {
      "cell_type": "markdown",
      "metadata": {
        "id": "F_T9Dt9zJFd8",
        "colab_type": "text"
      },
      "source": [
        "`a + 3`을 하면 `1 + 3`을 하는 것과 같다."
      ]
    },
    {
      "cell_type": "code",
      "metadata": {
        "id": "WFT3VAtQJFd8",
        "colab_type": "code",
        "colab": {
          "base_uri": "https://localhost:8080/",
          "height": 34
        },
        "outputId": "a11843a3-29fc-4e09-bc60-c82a47b3d7c8"
      },
      "source": [
        "a + 3"
      ],
      "execution_count": 10,
      "outputs": [
        {
          "output_type": "execute_result",
          "data": {
            "text/plain": [
              "4"
            ]
          },
          "metadata": {
            "tags": []
          },
          "execution_count": 10
        }
      ]
    },
    {
      "cell_type": "markdown",
      "metadata": {
        "id": "_G3Pr-GSJFd-",
        "colab_type": "text"
      },
      "source": [
        "한 번 값을 할당한 변수에 다른 값을 할당할 수도 있다."
      ]
    },
    {
      "cell_type": "code",
      "metadata": {
        "id": "f7hfRKBrJFd_",
        "colab_type": "code",
        "colab": {}
      },
      "source": [
        "a = 5"
      ],
      "execution_count": 11,
      "outputs": []
    },
    {
      "cell_type": "code",
      "metadata": {
        "id": "qRiaui7xJFeB",
        "colab_type": "code",
        "colab": {
          "base_uri": "https://localhost:8080/",
          "height": 34
        },
        "outputId": "7d84928f-237e-4a8e-db62-93ed8be8911a"
      },
      "source": [
        "a"
      ],
      "execution_count": 12,
      "outputs": [
        {
          "output_type": "execute_result",
          "data": {
            "text/plain": [
              "5"
            ]
          },
          "metadata": {
            "tags": []
          },
          "execution_count": 12
        }
      ]
    },
    {
      "cell_type": "markdown",
      "metadata": {
        "id": "hz8xZgzgJFeD",
        "colab_type": "text"
      },
      "source": [
        "`=`은 항상 오른쪽부터 계산한다. 다음과 같이 `a = a + 1`이라고 하면 `a + 1`을 먼저 계산한다. 현재 `a`는 5를 가리키므로, `a + 1`은 `6`이 된다. 다음으로 이 결과를 `a`에 할당한다."
      ]
    },
    {
      "cell_type": "code",
      "metadata": {
        "id": "eXgZHcbXJFeD",
        "colab_type": "code",
        "colab": {}
      },
      "source": [
        "a = a + 1"
      ],
      "execution_count": 13,
      "outputs": []
    },
    {
      "cell_type": "markdown",
      "metadata": {
        "id": "yXRVIDAqJFeF",
        "colab_type": "text"
      },
      "source": [
        "따라서 `a`의 값은 `6`이 된다."
      ]
    },
    {
      "cell_type": "code",
      "metadata": {
        "id": "grnynyNHJFeF",
        "colab_type": "code",
        "colab": {
          "base_uri": "https://localhost:8080/",
          "height": 34
        },
        "outputId": "b30660e7-7351-41b1-f495-1ac9807968b4"
      },
      "source": [
        "a"
      ],
      "execution_count": 14,
      "outputs": [
        {
          "output_type": "execute_result",
          "data": {
            "text/plain": [
              "6"
            ]
          },
          "metadata": {
            "tags": []
          },
          "execution_count": 14
        }
      ]
    },
    {
      "cell_type": "markdown",
      "metadata": {
        "id": "1TLW9NOLJFeH",
        "colab_type": "text"
      },
      "source": [
        "변수 이름에는 알파벳만이 아니라 한글 등 다른 문자와 숫자, 밑줄(`_`) 등을 쓸 수 있다."
      ]
    },
    {
      "cell_type": "code",
      "metadata": {
        "id": "OYwQdkHRJFeI",
        "colab_type": "code",
        "colab": {}
      },
      "source": [
        "변수_이름2 = 10"
      ],
      "execution_count": 15,
      "outputs": []
    },
    {
      "cell_type": "markdown",
      "metadata": {
        "id": "_Aq7NtUpJFeL",
        "colab_type": "text"
      },
      "source": [
        "단, 변수 이름 첫 자리에는 숫자를 쓸 수 없다."
      ]
    },
    {
      "cell_type": "code",
      "metadata": {
        "id": "p9VweNZVJFeL",
        "colab_type": "code",
        "colab": {
          "base_uri": "https://localhost:8080/",
          "height": 130
        },
        "outputId": "5521b919-2820-436d-8f03-ebe66c13552b"
      },
      "source": [
        "1변수"
      ],
      "execution_count": 16,
      "outputs": [
        {
          "output_type": "error",
          "ename": "SyntaxError",
          "evalue": "ignored",
          "traceback": [
            "\u001b[0;36m  File \u001b[0;32m\"<ipython-input-16-4b1ba74c1a54>\"\u001b[0;36m, line \u001b[0;32m1\u001b[0m\n\u001b[0;31m    1변수\u001b[0m\n\u001b[0m      ^\u001b[0m\n\u001b[0;31mSyntaxError\u001b[0m\u001b[0;31m:\u001b[0m invalid syntax\n"
          ]
        }
      ]
    },
    {
      "cell_type": "markdown",
      "metadata": {
        "id": "1a7nH2S6JFeN",
        "colab_type": "text"
      },
      "source": [
        "## 화면에 출력\n"
      ]
    },
    {
      "cell_type": "markdown",
      "metadata": {
        "id": "q_dAI7pUJFeN",
        "colab_type": "text"
      },
      "source": [
        "주피터 노트북에서는 하나의 칸에서 여러 줄의 코드를 실행시킬 수 있다. 그리고 마지막 줄의 실행 결과가 `Out`으로 표시된다."
      ]
    },
    {
      "cell_type": "code",
      "metadata": {
        "id": "ytYEm4lqJFeO",
        "colab_type": "code",
        "colab": {
          "base_uri": "https://localhost:8080/",
          "height": 34
        },
        "outputId": "09669868-6df1-4d5b-c379-cbfbeb4dce92"
      },
      "source": [
        "a = 1\n",
        "b = 2\n",
        "a + b\n",
        "b * 3"
      ],
      "execution_count": 17,
      "outputs": [
        {
          "output_type": "execute_result",
          "data": {
            "text/plain": [
              "6"
            ]
          },
          "metadata": {
            "tags": []
          },
          "execution_count": 17
        }
      ]
    },
    {
      "cell_type": "markdown",
      "metadata": {
        "id": "2dLEmW59JFeQ",
        "colab_type": "text"
      },
      "source": [
        "만약 임의의 내용을 화면에 출력하고자 하면 `print` 함수를 사용한다. `print` 함수로 출력된 부분에는 `Out`이라고 표시되지 않는다."
      ]
    },
    {
      "cell_type": "code",
      "metadata": {
        "id": "Iz3hgPAcJFeQ",
        "colab_type": "code",
        "colab": {
          "base_uri": "https://localhost:8080/",
          "height": 51
        },
        "outputId": "8a537152-40d5-47d3-d15a-21cd5a104685"
      },
      "source": [
        "print(a)\n",
        "print(b)"
      ],
      "execution_count": 18,
      "outputs": [
        {
          "output_type": "stream",
          "text": [
            "1\n",
            "2\n"
          ],
          "name": "stdout"
        }
      ]
    },
    {
      "cell_type": "markdown",
      "metadata": {
        "id": "_mzWAnvjJFeS",
        "colab_type": "text"
      },
      "source": [
        "`print` 함수에는 여러 개의 값을 전달할 수 있다. 이때는 한 칸 씩 띄어서 출력된다."
      ]
    },
    {
      "cell_type": "code",
      "metadata": {
        "id": "S4XMwM-AJFeS",
        "colab_type": "code",
        "colab": {
          "base_uri": "https://localhost:8080/",
          "height": 34
        },
        "outputId": "c2872531-27d8-48a5-f117-ad214938f10b"
      },
      "source": [
        "print(1, 2, 3)"
      ],
      "execution_count": 19,
      "outputs": [
        {
          "output_type": "stream",
          "text": [
            "1 2 3\n"
          ],
          "name": "stdout"
        }
      ]
    },
    {
      "cell_type": "markdown",
      "metadata": {
        "id": "LUm6baLxJFeU",
        "colab_type": "text"
      },
      "source": [
        "여러 개의 문자를 순서대로 늘어놓은 형태의 값을 프로그래밍에서는 문자열이라고 부른다. 파이썬에서 문자열은 앞뒤로 작은 따옴표 `'`나 큰 따옴표 `\"`로 감싸서 표시한다. 앞뒤의 따옴표 종류는 같아야 한다."
      ]
    },
    {
      "cell_type": "code",
      "metadata": {
        "id": "7qHR52_iJFeU",
        "colab_type": "code",
        "colab": {}
      },
      "source": [
        "x = 'hello'\n",
        "y = 'world'"
      ],
      "execution_count": 20,
      "outputs": []
    },
    {
      "cell_type": "markdown",
      "metadata": {
        "id": "twHtCjxrJFeW",
        "colab_type": "text"
      },
      "source": [
        "문자열의 내용을 확인할 때는, 문자열이라는 것을 확실히 하기 위해 따옴표를 붙여서 보여준다."
      ]
    },
    {
      "cell_type": "code",
      "metadata": {
        "id": "8kVmU5OZJFeW",
        "colab_type": "code",
        "colab": {
          "base_uri": "https://localhost:8080/",
          "height": 35
        },
        "outputId": "367452ec-f347-4831-ee64-c03aff0e0ca6"
      },
      "source": [
        "x"
      ],
      "execution_count": 21,
      "outputs": [
        {
          "output_type": "execute_result",
          "data": {
            "application/vnd.google.colaboratory.intrinsic": {
              "type": "string"
            },
            "text/plain": [
              "'hello'"
            ]
          },
          "metadata": {
            "tags": []
          },
          "execution_count": 21
        }
      ]
    },
    {
      "cell_type": "markdown",
      "metadata": {
        "id": "Wk4q7InpJFeZ",
        "colab_type": "text"
      },
      "source": [
        "문자열을 `print`로 출력할 때는 따옴표가 생략된다. 왜냐하면 따옴표는 문자열의 시작과 끝을 나타내는 기호일 뿐, 문자열의 실제 내용에는 포함되지 않기 때문이다."
      ]
    },
    {
      "cell_type": "code",
      "metadata": {
        "id": "OCQMtgGCJFea",
        "colab_type": "code",
        "colab": {
          "base_uri": "https://localhost:8080/",
          "height": 34
        },
        "outputId": "a1cbf58b-5e19-4be4-ab3b-509d62a00e8f"
      },
      "source": [
        "print(x, y)"
      ],
      "execution_count": 22,
      "outputs": [
        {
          "output_type": "stream",
          "text": [
            "hello world\n"
          ],
          "name": "stdout"
        }
      ]
    },
    {
      "cell_type": "markdown",
      "metadata": {
        "id": "HOJzBL1AJFec",
        "colab_type": "text"
      },
      "source": [
        "## 모듈 불러오기"
      ]
    },
    {
      "cell_type": "markdown",
      "metadata": {
        "id": "CsCWbCf2JFec",
        "colab_type": "text"
      },
      "source": [
        "프로그램은 모듈(module)이라는 작은 부분들로 이뤄져 있다. 주피터 노트북에서 작성하는 코드도 하나의 모듈이라고 할 수 있다. 모듈들은 `import` 문을 통해서 서로 참조할 수 있다.\n",
        "\n",
        "아래는 `sys` 모듈을 현재 모듈에서 참조하겠다는 표시이다. 앞으로는 `sys` 모듈을 현재 모듈에서 사용할 수 있게 된다."
      ]
    },
    {
      "cell_type": "code",
      "metadata": {
        "id": "hqlecg40JFec",
        "colab_type": "code",
        "colab": {}
      },
      "source": [
        "import sys"
      ],
      "execution_count": 23,
      "outputs": []
    },
    {
      "cell_type": "markdown",
      "metadata": {
        "id": "hfqNI9lTJFee",
        "colab_type": "text"
      },
      "source": [
        "`sys` 모듈의 변수나 함수를 사용할 때는 다음과 같이 `.`을 찍어 표시한다. 아래는 `sys` 모듈의 `platform` 변수를 사용하는 예이다."
      ]
    },
    {
      "cell_type": "code",
      "metadata": {
        "id": "ePwLj6H1JFee",
        "colab_type": "code",
        "colab": {
          "base_uri": "https://localhost:8080/",
          "height": 35
        },
        "outputId": "ee71c5cc-320f-40b8-b08e-0c9d487b25b4"
      },
      "source": [
        "sys.platform"
      ],
      "execution_count": 24,
      "outputs": [
        {
          "output_type": "execute_result",
          "data": {
            "application/vnd.google.colaboratory.intrinsic": {
              "type": "string"
            },
            "text/plain": [
              "'linux'"
            ]
          },
          "metadata": {
            "tags": []
          },
          "execution_count": 24
        }
      ]
    },
    {
      "cell_type": "markdown",
      "metadata": {
        "id": "F6nsZr1hJFeg",
        "colab_type": "text"
      },
      "source": [
        "다음과 같이 `from .. import ..` 문을 사용하면 `sys` 모듈에서 `version` 변수 하나만 참조한다."
      ]
    },
    {
      "cell_type": "code",
      "metadata": {
        "id": "1QZrKCPFJFeg",
        "colab_type": "code",
        "colab": {}
      },
      "source": [
        "from sys import version"
      ],
      "execution_count": 25,
      "outputs": []
    },
    {
      "cell_type": "markdown",
      "metadata": {
        "id": "GEfd2R7lJFei",
        "colab_type": "text"
      },
      "source": [
        "이렇게 임포트한 경우에는 모듈 이름을 쓸 필요 없이 변수를 바로 사용할 수 있다."
      ]
    },
    {
      "cell_type": "code",
      "metadata": {
        "id": "iqqUA3bzJFei",
        "colab_type": "code",
        "colab": {
          "base_uri": "https://localhost:8080/",
          "height": 35
        },
        "outputId": "eb0dee11-141f-4889-ba17-8a4e98d7f5ef"
      },
      "source": [
        "version"
      ],
      "execution_count": 26,
      "outputs": [
        {
          "output_type": "execute_result",
          "data": {
            "application/vnd.google.colaboratory.intrinsic": {
              "type": "string"
            },
            "text/plain": [
              "'3.6.9 (default, Apr 18 2020, 01:56:04) \\n[GCC 8.4.0]'"
            ]
          },
          "metadata": {
            "tags": []
          },
          "execution_count": 26
        }
      ]
    },
    {
      "cell_type": "markdown",
      "metadata": {
        "id": "ZxJTiKn0JFel",
        "colab_type": "text"
      },
      "source": [
        "모듈의 이름이 길어서 매번 입력하기 불편하거나, 모듈들끼리 이름이 겹칠 수 있다. 이럴 때는 임포트를 할 때 `as`를 이용해 별명을 붙인다. 아래는 `random` 모듈을 `r`이라는 별명으로 임포트한다."
      ]
    },
    {
      "cell_type": "code",
      "metadata": {
        "id": "7oGc7s0VJFel",
        "colab_type": "code",
        "colab": {}
      },
      "source": [
        "import random as r"
      ],
      "execution_count": 27,
      "outputs": []
    },
    {
      "cell_type": "markdown",
      "metadata": {
        "id": "ORwu7DwNJFen",
        "colab_type": "text"
      },
      "source": [
        "`random` 모듈을 사용할 때는 `r`이라는 이름으로 사용한다. 아래는 `random` 모듈의 `randint` 함수를 사용하는 예이다. `randint(1, 6)`은 1에서 6까지 범위에서 정수 하나를 랜덤하게 생성한다."
      ]
    },
    {
      "cell_type": "code",
      "metadata": {
        "lines_to_next_cell": 2,
        "id": "93V4QgHpJFen",
        "colab_type": "code",
        "colab": {
          "base_uri": "https://localhost:8080/",
          "height": 34
        },
        "outputId": "8d837c18-ea84-4d42-8313-cf1cbadfa4e7"
      },
      "source": [
        "r.randint(1, 6)"
      ],
      "execution_count": 28,
      "outputs": [
        {
          "output_type": "execute_result",
          "data": {
            "text/plain": [
              "3"
            ]
          },
          "metadata": {
            "tags": []
          },
          "execution_count": 28
        }
      ]
    },
    {
      "cell_type": "markdown",
      "metadata": {
        "id": "WLpZcuVLJFep",
        "colab_type": "text"
      },
      "source": [
        "## 참과 거짓\n",
        "\n",
        "파이썬에서는 참을 `True`, 거짓을 `False`로 표시한다. (첫 글자가 대문자인 것에 주의) 다음과 같이 비교를 하면 결과는 참 또는 거짓이 된다."
      ]
    },
    {
      "cell_type": "code",
      "metadata": {
        "id": "dO44096_JFeq",
        "colab_type": "code",
        "colab": {
          "base_uri": "https://localhost:8080/",
          "height": 34
        },
        "outputId": "b567c2b5-2e63-4cf3-8c97-245da746c7ae"
      },
      "source": [
        "4 > 3"
      ],
      "execution_count": 29,
      "outputs": [
        {
          "output_type": "execute_result",
          "data": {
            "text/plain": [
              "True"
            ]
          },
          "metadata": {
            "tags": []
          },
          "execution_count": 29
        }
      ]
    },
    {
      "cell_type": "code",
      "metadata": {
        "id": "OwAF3hE2JFer",
        "colab_type": "code",
        "colab": {
          "base_uri": "https://localhost:8080/",
          "height": 34
        },
        "outputId": "9e3c3bd4-d74f-451c-8d85-e654a7a30b4a"
      },
      "source": [
        "1 > 2"
      ],
      "execution_count": 30,
      "outputs": [
        {
          "output_type": "execute_result",
          "data": {
            "text/plain": [
              "False"
            ]
          },
          "metadata": {
            "tags": []
          },
          "execution_count": 30
        }
      ]
    },
    {
      "cell_type": "markdown",
      "metadata": {
        "id": "BBmVu9Z8JFeu",
        "colab_type": "text"
      },
      "source": [
        "## 비교 연산자\n",
        "\n",
        "값을 비교할 때는 비교 연산자를 사용한다. 같다는 `==`을 사용한다."
      ]
    },
    {
      "cell_type": "code",
      "metadata": {
        "id": "oiE4gGZkJFeu",
        "colab_type": "code",
        "colab": {
          "base_uri": "https://localhost:8080/",
          "height": 34
        },
        "outputId": "d5d488eb-2953-4ee2-dda0-226002dfe0c2"
      },
      "source": [
        "12 / 4 == 3"
      ],
      "execution_count": 31,
      "outputs": [
        {
          "output_type": "execute_result",
          "data": {
            "text/plain": [
              "True"
            ]
          },
          "metadata": {
            "tags": []
          },
          "execution_count": 31
        }
      ]
    },
    {
      "cell_type": "markdown",
      "metadata": {
        "id": "9GG-QSU3JFew",
        "colab_type": "text"
      },
      "source": [
        "다르다는 `!=`"
      ]
    },
    {
      "cell_type": "code",
      "metadata": {
        "id": "4P4Kh0ImJFew",
        "colab_type": "code",
        "colab": {
          "base_uri": "https://localhost:8080/",
          "height": 34
        },
        "outputId": "3f4c7889-3fd0-4ece-e224-d92030b356ef"
      },
      "source": [
        "12 / 4 != 3"
      ],
      "execution_count": 32,
      "outputs": [
        {
          "output_type": "execute_result",
          "data": {
            "text/plain": [
              "False"
            ]
          },
          "metadata": {
            "tags": []
          },
          "execution_count": 32
        }
      ]
    },
    {
      "cell_type": "markdown",
      "metadata": {
        "id": "OUN8nh3hJFey",
        "colab_type": "text"
      },
      "source": [
        "크다는 `>`, 작다는 `<`를 사용한다. 크거나 같다는 `>=`, 작거나 같다는 `<=`를 사용한다."
      ]
    },
    {
      "cell_type": "markdown",
      "metadata": {
        "id": "tf6Wa2utJFey",
        "colab_type": "text"
      },
      "source": [
        "## if\n",
        "\n",
        "어떤 조건이 참일 때만 코드를 실행시키고자 할 때는 `if` 문을 사용한다. `if`는 다음과 같이 조건이 참일 때만 들여쓰기한 코드를 실행한다."
      ]
    },
    {
      "cell_type": "code",
      "metadata": {
        "id": "6hpZi-tbJFez",
        "colab_type": "code",
        "colab": {
          "base_uri": "https://localhost:8080/",
          "height": 34
        },
        "outputId": "c21cd360-94a8-48b2-8d2c-1e969240a991"
      },
      "source": [
        "x = 3\n",
        "if x > 2:\n",
        "    print('크다')"
      ],
      "execution_count": 33,
      "outputs": [
        {
          "output_type": "stream",
          "text": [
            "크다\n"
          ],
          "name": "stdout"
        }
      ]
    },
    {
      "cell_type": "markdown",
      "metadata": {
        "id": "SfepPYk8JFe0",
        "colab_type": "text"
      },
      "source": [
        "만약 조건이 거짓이면 코드를 실행하지 않는다."
      ]
    },
    {
      "cell_type": "code",
      "metadata": {
        "id": "lDvaa5eEJFe1",
        "colab_type": "code",
        "colab": {}
      },
      "source": [
        "if x < 2:\n",
        "    print('작다')"
      ],
      "execution_count": 34,
      "outputs": []
    },
    {
      "cell_type": "markdown",
      "metadata": {
        "id": "j7TwRTHnJFe4",
        "colab_type": "text"
      },
      "source": [
        "## for"
      ]
    },
    {
      "cell_type": "markdown",
      "metadata": {
        "id": "v2J85cCLJFe4",
        "colab_type": "text"
      },
      "source": [
        "아래 코드는 변수 `i`에 0을 할당하고, 그 내용을 출력한다."
      ]
    },
    {
      "cell_type": "code",
      "metadata": {
        "id": "CSjKJaA0JFe5",
        "colab_type": "code",
        "colab": {
          "base_uri": "https://localhost:8080/",
          "height": 34
        },
        "outputId": "28cf3947-c11f-4ace-bbef-a0a3b983e943"
      },
      "source": [
        "i = 0\n",
        "print(i)"
      ],
      "execution_count": 35,
      "outputs": [
        {
          "output_type": "stream",
          "text": [
            "0\n"
          ],
          "name": "stdout"
        }
      ]
    },
    {
      "cell_type": "markdown",
      "metadata": {
        "id": "RZHoPafUJFe9",
        "colab_type": "text"
      },
      "source": [
        "다음 코드는 변수 `i`에 1을 할당하고, 그 내용을 출력한다."
      ]
    },
    {
      "cell_type": "code",
      "metadata": {
        "id": "kzjqe9wXJFe9",
        "colab_type": "code",
        "colab": {
          "base_uri": "https://localhost:8080/",
          "height": 34
        },
        "outputId": "6000df0f-5b09-4050-9b3b-b1b3b8985ca7"
      },
      "source": [
        "i = 1\n",
        "print(i)"
      ],
      "execution_count": 36,
      "outputs": [
        {
          "output_type": "stream",
          "text": [
            "1\n"
          ],
          "name": "stdout"
        }
      ]
    },
    {
      "cell_type": "markdown",
      "metadata": {
        "id": "m5Z3rF16JFfA",
        "colab_type": "text"
      },
      "source": [
        "위 두 코드를 비교하면 실제 수행하는 동작은 `print(i)`로 동일하고 변수 `i`의 값만 바뀐다. 이럴 때 파이썬에서 사용할 수 있는 것이 반복문 `for`이다.\n",
        "\n",
        "아래 코드는 `i`의 값을 1에서 3까지 바꾸어가며 출력한다."
      ]
    },
    {
      "cell_type": "code",
      "metadata": {
        "id": "oScsCbHOJFfA",
        "colab_type": "code",
        "colab": {
          "base_uri": "https://localhost:8080/",
          "height": 68
        },
        "outputId": "9a8f0b9f-60c5-440b-da7a-7268a886c1bc"
      },
      "source": [
        "for i in range(1, 4):\n",
        "    print(i)"
      ],
      "execution_count": 37,
      "outputs": [
        {
          "output_type": "stream",
          "text": [
            "1\n",
            "2\n",
            "3\n"
          ],
          "name": "stdout"
        }
      ]
    },
    {
      "cell_type": "markdown",
      "metadata": {
        "id": "wAEDqugpJFfC",
        "colab_type": "text"
      },
      "source": [
        "`range`는 일정 범위의 정수들을 만들어주는 함수이다. `range(1, 4)`와 같이 할 경우 1에서 3까지 정수를 생성한다. 4까지 아니므로 주의한다. `range(4)`와 같이 하나의 값만 넘겨줄 경우 `range(0, 4)`라고 하는 것과 동일하다."
      ]
    },
    {
      "cell_type": "code",
      "metadata": {
        "id": "XdBx7jCNJFfC",
        "colab_type": "code",
        "colab": {
          "base_uri": "https://localhost:8080/",
          "height": 85
        },
        "outputId": "7429ad07-5c13-46fe-a969-7d707239771c"
      },
      "source": [
        "for i in range(4):\n",
        "    print(i)"
      ],
      "execution_count": 38,
      "outputs": [
        {
          "output_type": "stream",
          "text": [
            "0\n",
            "1\n",
            "2\n",
            "3\n"
          ],
          "name": "stdout"
        }
      ]
    },
    {
      "cell_type": "markdown",
      "metadata": {
        "id": "2jYj5pmIJFfE",
        "colab_type": "text"
      },
      "source": [
        "`for` 문은 아래 들여쓰기한 코드를 반복한다. 여러 줄을 작성할 경우 그 모두를 반복한다. 들여쓰기하지 않은 부분은 `for` 문의 반복 범위에 포함되지 않는다."
      ]
    },
    {
      "cell_type": "code",
      "metadata": {
        "id": "eFiiPmeFJFfF",
        "colab_type": "code",
        "colab": {
          "base_uri": "https://localhost:8080/",
          "height": 102
        },
        "outputId": "92ce4735-e07e-4931-a1ea-a208e20ecb41"
      },
      "source": [
        "s = 0\n",
        "for i in range(4):\n",
        "    s = s + i\n",
        "    print(i)\n",
        "print('합계:', s)"
      ],
      "execution_count": 39,
      "outputs": [
        {
          "output_type": "stream",
          "text": [
            "0\n",
            "1\n",
            "2\n",
            "3\n",
            "합계: 6\n"
          ],
          "name": "stdout"
        }
      ]
    }
  ]
}