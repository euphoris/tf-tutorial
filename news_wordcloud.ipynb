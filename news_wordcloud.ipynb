{
  "nbformat": 4,
  "nbformat_minor": 0,
  "metadata": {
    "colab": {
      "name": "news-wordcloud.ipynb",
      "provenance": [],
      "collapsed_sections": []
    },
    "kernelspec": {
      "name": "python3",
      "display_name": "Python 3"
    },
    "widgets": {
      "application/vnd.jupyter.widget-state+json": {
        "c89ae814178046c3833007e5cbc7858d": {
          "model_module": "@jupyter-widgets/controls",
          "model_name": "HBoxModel",
          "state": {
            "_view_name": "HBoxView",
            "_dom_classes": [],
            "_model_name": "HBoxModel",
            "_view_module": "@jupyter-widgets/controls",
            "_model_module_version": "1.5.0",
            "_view_count": null,
            "_view_module_version": "1.5.0",
            "box_style": "",
            "layout": "IPY_MODEL_ee32846a62b04bceaeee464048b705ae",
            "_model_module": "@jupyter-widgets/controls",
            "children": [
              "IPY_MODEL_57668cb5480345fc808b2c5d2e337321",
              "IPY_MODEL_c66d1873fd4a49a6bffa65dd39475bae"
            ]
          }
        },
        "ee32846a62b04bceaeee464048b705ae": {
          "model_module": "@jupyter-widgets/base",
          "model_name": "LayoutModel",
          "state": {
            "_view_name": "LayoutView",
            "grid_template_rows": null,
            "right": null,
            "justify_content": null,
            "_view_module": "@jupyter-widgets/base",
            "overflow": null,
            "_model_module_version": "1.2.0",
            "_view_count": null,
            "flex_flow": null,
            "width": null,
            "min_width": null,
            "border": null,
            "align_items": null,
            "bottom": null,
            "_model_module": "@jupyter-widgets/base",
            "top": null,
            "grid_column": null,
            "overflow_y": null,
            "overflow_x": null,
            "grid_auto_flow": null,
            "grid_area": null,
            "grid_template_columns": null,
            "flex": null,
            "_model_name": "LayoutModel",
            "justify_items": null,
            "grid_row": null,
            "max_height": null,
            "align_content": null,
            "visibility": null,
            "align_self": null,
            "height": null,
            "min_height": null,
            "padding": null,
            "grid_auto_rows": null,
            "grid_gap": null,
            "max_width": null,
            "order": null,
            "_view_module_version": "1.2.0",
            "grid_template_areas": null,
            "object_position": null,
            "object_fit": null,
            "grid_auto_columns": null,
            "margin": null,
            "display": null,
            "left": null
          }
        },
        "57668cb5480345fc808b2c5d2e337321": {
          "model_module": "@jupyter-widgets/controls",
          "model_name": "FloatProgressModel",
          "state": {
            "_view_name": "ProgressView",
            "style": "IPY_MODEL_a10381f2b7c14f8ba4a9613f886aabe0",
            "_dom_classes": [],
            "description": "100%",
            "_model_name": "FloatProgressModel",
            "bar_style": "success",
            "max": 30,
            "_view_module": "@jupyter-widgets/controls",
            "_model_module_version": "1.5.0",
            "value": 30,
            "_view_count": null,
            "_view_module_version": "1.5.0",
            "orientation": "horizontal",
            "min": 0,
            "description_tooltip": null,
            "_model_module": "@jupyter-widgets/controls",
            "layout": "IPY_MODEL_8abbbe3fe8804a898788b45b65418bd7"
          }
        },
        "c66d1873fd4a49a6bffa65dd39475bae": {
          "model_module": "@jupyter-widgets/controls",
          "model_name": "HTMLModel",
          "state": {
            "_view_name": "HTMLView",
            "style": "IPY_MODEL_79aed52b8e4446f6bccc719e66d6d6d2",
            "_dom_classes": [],
            "description": "",
            "_model_name": "HTMLModel",
            "placeholder": "​",
            "_view_module": "@jupyter-widgets/controls",
            "_model_module_version": "1.5.0",
            "value": " 30/30 [01:14&lt;00:00,  2.48s/it]",
            "_view_count": null,
            "_view_module_version": "1.5.0",
            "description_tooltip": null,
            "_model_module": "@jupyter-widgets/controls",
            "layout": "IPY_MODEL_913955db820d4f8ebfbf1467e53b06bb"
          }
        },
        "a10381f2b7c14f8ba4a9613f886aabe0": {
          "model_module": "@jupyter-widgets/controls",
          "model_name": "ProgressStyleModel",
          "state": {
            "_view_name": "StyleView",
            "_model_name": "ProgressStyleModel",
            "description_width": "initial",
            "_view_module": "@jupyter-widgets/base",
            "_model_module_version": "1.5.0",
            "_view_count": null,
            "_view_module_version": "1.2.0",
            "bar_color": null,
            "_model_module": "@jupyter-widgets/controls"
          }
        },
        "8abbbe3fe8804a898788b45b65418bd7": {
          "model_module": "@jupyter-widgets/base",
          "model_name": "LayoutModel",
          "state": {
            "_view_name": "LayoutView",
            "grid_template_rows": null,
            "right": null,
            "justify_content": null,
            "_view_module": "@jupyter-widgets/base",
            "overflow": null,
            "_model_module_version": "1.2.0",
            "_view_count": null,
            "flex_flow": null,
            "width": null,
            "min_width": null,
            "border": null,
            "align_items": null,
            "bottom": null,
            "_model_module": "@jupyter-widgets/base",
            "top": null,
            "grid_column": null,
            "overflow_y": null,
            "overflow_x": null,
            "grid_auto_flow": null,
            "grid_area": null,
            "grid_template_columns": null,
            "flex": null,
            "_model_name": "LayoutModel",
            "justify_items": null,
            "grid_row": null,
            "max_height": null,
            "align_content": null,
            "visibility": null,
            "align_self": null,
            "height": null,
            "min_height": null,
            "padding": null,
            "grid_auto_rows": null,
            "grid_gap": null,
            "max_width": null,
            "order": null,
            "_view_module_version": "1.2.0",
            "grid_template_areas": null,
            "object_position": null,
            "object_fit": null,
            "grid_auto_columns": null,
            "margin": null,
            "display": null,
            "left": null
          }
        },
        "79aed52b8e4446f6bccc719e66d6d6d2": {
          "model_module": "@jupyter-widgets/controls",
          "model_name": "DescriptionStyleModel",
          "state": {
            "_view_name": "StyleView",
            "_model_name": "DescriptionStyleModel",
            "description_width": "",
            "_view_module": "@jupyter-widgets/base",
            "_model_module_version": "1.5.0",
            "_view_count": null,
            "_view_module_version": "1.2.0",
            "_model_module": "@jupyter-widgets/controls"
          }
        },
        "913955db820d4f8ebfbf1467e53b06bb": {
          "model_module": "@jupyter-widgets/base",
          "model_name": "LayoutModel",
          "state": {
            "_view_name": "LayoutView",
            "grid_template_rows": null,
            "right": null,
            "justify_content": null,
            "_view_module": "@jupyter-widgets/base",
            "overflow": null,
            "_model_module_version": "1.2.0",
            "_view_count": null,
            "flex_flow": null,
            "width": null,
            "min_width": null,
            "border": null,
            "align_items": null,
            "bottom": null,
            "_model_module": "@jupyter-widgets/base",
            "top": null,
            "grid_column": null,
            "overflow_y": null,
            "overflow_x": null,
            "grid_auto_flow": null,
            "grid_area": null,
            "grid_template_columns": null,
            "flex": null,
            "_model_name": "LayoutModel",
            "justify_items": null,
            "grid_row": null,
            "max_height": null,
            "align_content": null,
            "visibility": null,
            "align_self": null,
            "height": null,
            "min_height": null,
            "padding": null,
            "grid_auto_rows": null,
            "grid_gap": null,
            "max_width": null,
            "order": null,
            "_view_module_version": "1.2.0",
            "grid_template_areas": null,
            "object_position": null,
            "object_fit": null,
            "grid_auto_columns": null,
            "margin": null,
            "display": null,
            "left": null
          }
        }
      }
    }
  },
  "cells": [
    {
      "cell_type": "code",
      "metadata": {
        "id": "hs3ZqxPwI9eL",
        "colab_type": "code",
        "colab": {}
      },
      "source": [
        "!pip install cssselect stanza\n",
        "!apt install fonts-nanum"
      ],
      "execution_count": null,
      "outputs": []
    },
    {
      "cell_type": "markdown",
      "metadata": {
        "id": "s58YhZUzLc3B",
        "colab_type": "text"
      },
      "source": [
        "## 웹 스크래핑"
      ]
    },
    {
      "cell_type": "code",
      "metadata": {
        "id": "TCI3IfCsIr2I",
        "colab_type": "code",
        "colab": {}
      },
      "source": [
        "import requests\n",
        "import lxml.html\n",
        "import pandas as pd"
      ],
      "execution_count": 1,
      "outputs": []
    },
    {
      "cell_type": "code",
      "metadata": {
        "id": "M_dxk9GsIvAb",
        "colab_type": "code",
        "colab": {}
      },
      "source": [
        "query = '인공지능'"
      ],
      "execution_count": 2,
      "outputs": []
    },
    {
      "cell_type": "code",
      "metadata": {
        "id": "ITt-ZBJwI1m-",
        "colab_type": "code",
        "colab": {}
      },
      "source": [
        "href = []\n",
        "for page in range(1, 3):\n",
        "    url = f'https://search.daum.net/search?w=news&nil_search=btn&DA=NTB&enc=utf8&cluster=y&cluster_page=1&q={query}&p={page}'\n",
        "    res = requests.get(url.format(page))\n",
        "    root = lxml.html.fromstring(res.text)\n",
        "    for link in root.cssselect('span.f_nb a'):\n",
        "        href.append(link.attrib['href'])"
      ],
      "execution_count": 9,
      "outputs": []
    },
    {
      "cell_type": "code",
      "metadata": {
        "id": "bQm5SeI-JLyE",
        "colab_type": "code",
        "colab": {}
      },
      "source": [
        "import tqdm"
      ],
      "execution_count": 13,
      "outputs": []
    },
    {
      "cell_type": "code",
      "metadata": {
        "id": "skul5P_oJQzD",
        "colab_type": "code",
        "colab": {
          "base_uri": "https://localhost:8080/",
          "height": 117,
          "referenced_widgets": [
            "c89ae814178046c3833007e5cbc7858d",
            "ee32846a62b04bceaeee464048b705ae",
            "57668cb5480345fc808b2c5d2e337321",
            "c66d1873fd4a49a6bffa65dd39475bae",
            "a10381f2b7c14f8ba4a9613f886aabe0",
            "8abbbe3fe8804a898788b45b65418bd7",
            "79aed52b8e4446f6bccc719e66d6d6d2",
            "913955db820d4f8ebfbf1467e53b06bb"
          ]
        },
        "outputId": "c457e07e-38d0-442f-dd68-0a5cf94edb82"
      },
      "source": [
        "articles = []\n",
        "for h in tqdm.tqdm_notebook(href):\n",
        "    res = requests.get(h)\n",
        "    root = lxml.html.fromstring(res.text)\n",
        "    for article in root.cssselect('.article_view'):\n",
        "        articles.append(article.text_content())"
      ],
      "execution_count": 14,
      "outputs": [
        {
          "output_type": "stream",
          "text": [
            "/usr/local/lib/python3.6/dist-packages/ipykernel_launcher.py:2: TqdmDeprecationWarning: This function will be removed in tqdm==5.0.0\n",
            "Please use `tqdm.notebook.tqdm` instead of `tqdm.tqdm_notebook`\n",
            "  \n"
          ],
          "name": "stderr"
        },
        {
          "output_type": "display_data",
          "data": {
            "application/vnd.jupyter.widget-view+json": {
              "model_id": "c89ae814178046c3833007e5cbc7858d",
              "version_minor": 0,
              "version_major": 2
            },
            "text/plain": [
              "HBox(children=(FloatProgress(value=0.0, max=30.0), HTML(value='')))"
            ]
          },
          "metadata": {
            "tags": []
          }
        },
        {
          "output_type": "stream",
          "text": [
            "\n"
          ],
          "name": "stdout"
        }
      ]
    },
    {
      "cell_type": "markdown",
      "metadata": {
        "id": "YQil5sUSLaBO",
        "colab_type": "text"
      },
      "source": [
        "## 형태소 분석 및 단어문서행렬"
      ]
    },
    {
      "cell_type": "code",
      "metadata": {
        "id": "ls9GYPZSJTHq",
        "colab_type": "code",
        "colab": {}
      },
      "source": [
        "import stanza"
      ],
      "execution_count": 16,
      "outputs": []
    },
    {
      "cell_type": "code",
      "metadata": {
        "id": "XmuVjgC4JkwR",
        "colab_type": "code",
        "colab": {
          "base_uri": "https://localhost:8080/",
          "height": 85
        },
        "outputId": "dfa010e9-5067-4cf4-95bd-d189881b6e3b"
      },
      "source": [
        "stanza.download('ko')"
      ],
      "execution_count": 17,
      "outputs": [
        {
          "output_type": "stream",
          "text": [
            "Downloading https://raw.githubusercontent.com/stanfordnlp/stanza-resources/master/resources_1.0.0.json: 115kB [00:00, 8.94MB/s]                    \n",
            "2020-07-04 04:47:15 INFO: Downloading default packages for language: ko (Korean)...\n",
            "Downloading http://nlp.stanford.edu/software/stanza/1.0.0/ko/default.zip: 100%|██████████| 230M/230M [00:13<00:00, 17.7MB/s]\n",
            "2020-07-04 04:47:33 INFO: Finished downloading models and saved to /root/stanza_resources.\n"
          ],
          "name": "stderr"
        }
      ]
    },
    {
      "cell_type": "code",
      "metadata": {
        "id": "0mTweDJvJmFL",
        "colab_type": "code",
        "colab": {
          "base_uri": "https://localhost:8080/",
          "height": 289
        },
        "outputId": "497149af-2c05-488a-b007-6944e5713f5c"
      },
      "source": [
        "nlp = stanza.Pipeline('ko')"
      ],
      "execution_count": 18,
      "outputs": [
        {
          "output_type": "stream",
          "text": [
            "2020-07-04 04:47:33 INFO: Loading these models for language: ko (Korean):\n",
            "=======================\n",
            "| Processor | Package |\n",
            "-----------------------\n",
            "| tokenize  | kaist   |\n",
            "| pos       | kaist   |\n",
            "| lemma     | kaist   |\n",
            "| depparse  | kaist   |\n",
            "=======================\n",
            "\n",
            "2020-07-04 04:47:33 INFO: Use device: cpu\n",
            "2020-07-04 04:47:33 INFO: Loading: tokenize\n",
            "2020-07-04 04:47:33 INFO: Loading: pos\n",
            "2020-07-04 04:47:34 INFO: Loading: lemma\n",
            "2020-07-04 04:47:35 INFO: Loading: depparse\n",
            "2020-07-04 04:47:36 INFO: Done loading processors!\n"
          ],
          "name": "stderr"
        }
      ]
    },
    {
      "cell_type": "code",
      "metadata": {
        "id": "1EMVkVKzJn2u",
        "colab_type": "code",
        "colab": {}
      },
      "source": [
        "def extract_noun(text):\n",
        "    doc = nlp(text)\n",
        "    for sentence in doc.sentences:\n",
        "        for word in sentence.words:\n",
        "            lemma = word.lemma.split('+')\n",
        "            xpos = word.xpos.split('+')\n",
        "            for tok, pos in zip(lemma, xpos):\n",
        "                if pos.startswith('n') and len(tok) > 1:\n",
        "                    yield tok"
      ],
      "execution_count": 42,
      "outputs": []
    },
    {
      "cell_type": "code",
      "metadata": {
        "id": "7OB8Dlc_Jt99",
        "colab_type": "code",
        "colab": {
          "base_uri": "https://localhost:8080/",
          "height": 34
        },
        "outputId": "61c9f53d-81d8-4acd-f887-63e0e7fee657"
      },
      "source": [
        "list(extract_noun('편의점에서 커피를 샀다.'))"
      ],
      "execution_count": 20,
      "outputs": [
        {
          "output_type": "execute_result",
          "data": {
            "text/plain": [
              "['편의점', '커피']"
            ]
          },
          "metadata": {
            "tags": []
          },
          "execution_count": 20
        }
      ]
    },
    {
      "cell_type": "code",
      "metadata": {
        "id": "E1NW4St8JvQ6",
        "colab_type": "code",
        "colab": {}
      },
      "source": [
        "from sklearn.feature_extraction.text import CountVectorizer\n",
        "cv = CountVectorizer(max_features=100, tokenizer=extract_noun)"
      ],
      "execution_count": 43,
      "outputs": []
    },
    {
      "cell_type": "code",
      "metadata": {
        "id": "HrNnyYz-Jzrs",
        "colab_type": "code",
        "colab": {}
      },
      "source": [
        "tdm = cv.fit_transform(articles)"
      ],
      "execution_count": 44,
      "outputs": []
    },
    {
      "cell_type": "code",
      "metadata": {
        "id": "FEAUfkCIJ3mO",
        "colab_type": "code",
        "colab": {}
      },
      "source": [
        "word_count = pd.DataFrame({\n",
        "    '단어': cv.get_feature_names(),\n",
        "    '빈도': tdm.sum(axis=0).flat\n",
        "})"
      ],
      "execution_count": 45,
      "outputs": []
    },
    {
      "cell_type": "code",
      "metadata": {
        "id": "GlPXzyFlJ6Bf",
        "colab_type": "code",
        "colab": {
          "base_uri": "https://localhost:8080/",
          "height": 204
        },
        "outputId": "4cc1099a-18c5-4f13-9f8d-1908a3ca89d8"
      },
      "source": [
        "word_count.sort_values('빈도', ascending=False).head()"
      ],
      "execution_count": 46,
      "outputs": [
        {
          "output_type": "execute_result",
          "data": {
            "text/html": [
              "<div>\n",
              "<style scoped>\n",
              "    .dataframe tbody tr th:only-of-type {\n",
              "        vertical-align: middle;\n",
              "    }\n",
              "\n",
              "    .dataframe tbody tr th {\n",
              "        vertical-align: top;\n",
              "    }\n",
              "\n",
              "    .dataframe thead th {\n",
              "        text-align: right;\n",
              "    }\n",
              "</style>\n",
              "<table border=\"1\" class=\"dataframe\">\n",
              "  <thead>\n",
              "    <tr style=\"text-align: right;\">\n",
              "      <th></th>\n",
              "      <th>단어</th>\n",
              "      <th>빈도</th>\n",
              "    </tr>\n",
              "  </thead>\n",
              "  <tbody>\n",
              "    <tr>\n",
              "      <th>71</th>\n",
              "      <td>인공</td>\n",
              "      <td>172</td>\n",
              "    </tr>\n",
              "    <tr>\n",
              "      <th>80</th>\n",
              "      <td>지능</td>\n",
              "      <td>153</td>\n",
              "    </tr>\n",
              "    <tr>\n",
              "      <th>74</th>\n",
              "      <td>제공</td>\n",
              "      <td>42</td>\n",
              "    </tr>\n",
              "    <tr>\n",
              "      <th>44</th>\n",
              "      <td>서비스</td>\n",
              "      <td>40</td>\n",
              "    </tr>\n",
              "    <tr>\n",
              "      <th>12</th>\n",
              "      <td>광주</td>\n",
              "      <td>38</td>\n",
              "    </tr>\n",
              "  </tbody>\n",
              "</table>\n",
              "</div>"
            ],
            "text/plain": [
              "     단어   빈도\n",
              "71   인공  172\n",
              "80   지능  153\n",
              "74   제공   42\n",
              "44  서비스   40\n",
              "12   광주   38"
            ]
          },
          "metadata": {
            "tags": []
          },
          "execution_count": 46
        }
      ]
    },
    {
      "cell_type": "markdown",
      "metadata": {
        "id": "G8-vfC-ALV2j",
        "colab_type": "text"
      },
      "source": [
        "## 단어 구름"
      ]
    },
    {
      "cell_type": "code",
      "metadata": {
        "id": "Ia2ridUnJ7HF",
        "colab_type": "code",
        "colab": {}
      },
      "source": [
        "from wordcloud import WordCloud"
      ],
      "execution_count": 27,
      "outputs": []
    },
    {
      "cell_type": "code",
      "metadata": {
        "id": "kFV7vxLoKMGp",
        "colab_type": "code",
        "colab": {}
      },
      "source": [
        "wc = WordCloud(font_path='/usr/share/fonts/truetype/nanum/NanumGothic.ttf',\n",
        "               background_color='white',\n",
        "               max_words=50,\n",
        "               width=400, height=300)"
      ],
      "execution_count": 39,
      "outputs": []
    },
    {
      "cell_type": "code",
      "metadata": {
        "id": "YPutRRL_K8s5",
        "colab_type": "code",
        "colab": {
          "base_uri": "https://localhost:8080/",
          "height": 317
        },
        "outputId": "73926989-b5fe-45e1-db08-f1833deb5d32"
      },
      "source": [
        "count_dic = word_count.set_index('단어')['빈도'].to_dict()\n",
        "cloud = wc.generate_from_frequencies(count_dic)\n",
        "cloud.to_image()"
      ],
      "execution_count": 47,
      "outputs": [
        {
          "output_type": "execute_result",
          "data": {
            "image/png": "[encoded data removed]",
            "text/plain": [
              "<PIL.Image.Image image mode=RGB size=400x300 at 0x7FCB23778080>"
            ]
          },
          "metadata": {
            "tags": []
          },
          "execution_count": 47
        }
      ]
    },
    {
      "cell_type": "code",
      "metadata": {
        "id": "6vNIyj1XK-fZ",
        "colab_type": "code",
        "colab": {
          "base_uri": "https://localhost:8080/",
          "height": 34
        },
        "outputId": "eb2e6e5b-703b-4de5-c860-3ae4c29b60c7"
      },
      "source": [
        "cloud.to_file('word_cloud.png')"
      ],
      "execution_count": 48,
      "outputs": [
        {
          "output_type": "execute_result",
          "data": {
            "text/plain": [
              "<wordcloud.wordcloud.WordCloud at 0x7fcb2338cb00>"
            ]
          },
          "metadata": {
            "tags": []
          },
          "execution_count": 48
        }
      ]
    }
  ]
}