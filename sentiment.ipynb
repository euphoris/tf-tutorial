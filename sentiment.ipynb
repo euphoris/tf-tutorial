{
  "nbformat": 4,
  "nbformat_minor": 0,
  "metadata": {
    "colab": {
      "name": "sentiment.ipynb",
      "provenance": [],
      "collapsed_sections": []
    },
    "kernelspec": {
      "name": "python3",
      "display_name": "Python 3"
    }
  },
  "cells": [
    {
      "cell_type": "markdown",
      "metadata": {
        "id": "LbbQrrtCRtc-",
        "colab_type": "text"
      },
      "source": [
        "## 데이터 불러오기"
      ]
    },
    {
      "cell_type": "code",
      "metadata": {
        "id": "43mwKuGkQTIj",
        "colab_type": "code",
        "colab": {}
      },
      "source": [
        "import pandas as pd"
      ],
      "execution_count": 1,
      "outputs": []
    },
    {
      "cell_type": "code",
      "metadata": {
        "id": "4ea5NxdoQVnj",
        "colab_type": "code",
        "colab": {}
      },
      "source": [
        "nsmc = pd.read_csv('https://github.com/e9t/nsmc/raw/master/ratings_train.txt', sep='\\t')"
      ],
      "execution_count": 2,
      "outputs": []
    },
    {
      "cell_type": "code",
      "metadata": {
        "id": "u80PHMlyQY4Z",
        "colab_type": "code",
        "colab": {
          "base_uri": "https://localhost:8080/",
          "height": 204
        },
        "outputId": "8b7a5836-1165-4086-8dc6-66c3849864dd"
      },
      "source": [
        "nsmc.head()"
      ],
      "execution_count": 3,
      "outputs": [
        {
          "output_type": "execute_result",
          "data": {
            "text/html": [
              "<div>\n",
              "<style scoped>\n",
              "    .dataframe tbody tr th:only-of-type {\n",
              "        vertical-align: middle;\n",
              "    }\n",
              "\n",
              "    .dataframe tbody tr th {\n",
              "        vertical-align: top;\n",
              "    }\n",
              "\n",
              "    .dataframe thead th {\n",
              "        text-align: right;\n",
              "    }\n",
              "</style>\n",
              "<table border=\"1\" class=\"dataframe\">\n",
              "  <thead>\n",
              "    <tr style=\"text-align: right;\">\n",
              "      <th></th>\n",
              "      <th>id</th>\n",
              "      <th>document</th>\n",
              "      <th>label</th>\n",
              "    </tr>\n",
              "  </thead>\n",
              "  <tbody>\n",
              "    <tr>\n",
              "      <th>0</th>\n",
              "      <td>9976970</td>\n",
              "      <td>아 더빙.. 진짜 짜증나네요 목소리</td>\n",
              "      <td>0</td>\n",
              "    </tr>\n",
              "    <tr>\n",
              "      <th>1</th>\n",
              "      <td>3819312</td>\n",
              "      <td>흠...포스터보고 초딩영화줄....오버연기조차 가볍지 않구나</td>\n",
              "      <td>1</td>\n",
              "    </tr>\n",
              "    <tr>\n",
              "      <th>2</th>\n",
              "      <td>10265843</td>\n",
              "      <td>너무재밓었다그래서보는것을추천한다</td>\n",
              "      <td>0</td>\n",
              "    </tr>\n",
              "    <tr>\n",
              "      <th>3</th>\n",
              "      <td>9045019</td>\n",
              "      <td>교도소 이야기구먼 ..솔직히 재미는 없다..평점 조정</td>\n",
              "      <td>0</td>\n",
              "    </tr>\n",
              "    <tr>\n",
              "      <th>4</th>\n",
              "      <td>6483659</td>\n",
              "      <td>사이몬페그의 익살스런 연기가 돋보였던 영화!스파이더맨에서 늙어보이기만 했던 커스틴 ...</td>\n",
              "      <td>1</td>\n",
              "    </tr>\n",
              "  </tbody>\n",
              "</table>\n",
              "</div>"
            ],
            "text/plain": [
              "         id                                           document  label\n",
              "0   9976970                                아 더빙.. 진짜 짜증나네요 목소리      0\n",
              "1   3819312                  흠...포스터보고 초딩영화줄....오버연기조차 가볍지 않구나      1\n",
              "2  10265843                                  너무재밓었다그래서보는것을추천한다      0\n",
              "3   9045019                      교도소 이야기구먼 ..솔직히 재미는 없다..평점 조정      0\n",
              "4   6483659  사이몬페그의 익살스런 연기가 돋보였던 영화!스파이더맨에서 늙어보이기만 했던 커스틴 ...      1"
            ]
          },
          "metadata": {
            "tags": []
          },
          "execution_count": 3
        }
      ]
    },
    {
      "cell_type": "markdown",
      "metadata": {
        "id": "sCzkva26RwHv",
        "colab_type": "text"
      },
      "source": [
        "## 토큰화"
      ]
    },
    {
      "cell_type": "code",
      "metadata": {
        "id": "f6JgqgDIQZ0_",
        "colab_type": "code",
        "colab": {
          "base_uri": "https://localhost:8080/",
          "height": 102
        },
        "outputId": "e0a07f1f-3c2e-41bd-cd5a-1851e0df0132"
      },
      "source": [
        "!pip install sentencepiece"
      ],
      "execution_count": 4,
      "outputs": [
        {
          "output_type": "stream",
          "text": [
            "Collecting sentencepiece\n",
            "\u001b[?25l  Downloading https://files.pythonhosted.org/packages/d4/a4/d0a884c4300004a78cca907a6ff9a5e9fe4f090f5d95ab341c53d28cbc58/sentencepiece-0.1.91-cp36-cp36m-manylinux1_x86_64.whl (1.1MB)\n",
            "\u001b[K     |████████████████████████████████| 1.1MB 4.3MB/s \n",
            "\u001b[?25hInstalling collected packages: sentencepiece\n",
            "Successfully installed sentencepiece-0.1.91\n"
          ],
          "name": "stdout"
        }
      ]
    },
    {
      "cell_type": "code",
      "metadata": {
        "id": "3L4RhKBSQdkt",
        "colab_type": "code",
        "colab": {}
      },
      "source": [
        "with open('nsmc.txt', 'w', encoding='utf8') as f:\n",
        "    f.write('\\n'.join(nsmc.loc[:10000, 'document'].fillna('')))"
      ],
      "execution_count": 13,
      "outputs": []
    },
    {
      "cell_type": "code",
      "metadata": {
        "id": "2qQkaPcnQen2",
        "colab_type": "code",
        "colab": {}
      },
      "source": [
        "from sentencepiece import SentencePieceTrainer\n",
        "SentencePieceTrainer.Train('--input=nsmc.txt --model_prefix=nsmc --vocab_size=3000')"
      ],
      "execution_count": 14,
      "outputs": []
    },
    {
      "cell_type": "code",
      "metadata": {
        "id": "KHZWGYIWQkC_",
        "colab_type": "code",
        "colab": {
          "base_uri": "https://localhost:8080/",
          "height": 34
        },
        "outputId": "2a89762f-5da2-430c-d465-218683f36e3d"
      },
      "source": [
        "from sentencepiece import SentencePieceProcessor\n",
        "sp = SentencePieceProcessor()\n",
        "sp.Load(\"nsmc.model\")"
      ],
      "execution_count": 15,
      "outputs": [
        {
          "output_type": "execute_result",
          "data": {
            "text/plain": [
              "True"
            ]
          },
          "metadata": {
            "tags": []
          },
          "execution_count": 15
        }
      ]
    },
    {
      "cell_type": "code",
      "metadata": {
        "id": "-bmDd77UQmev",
        "colab_type": "code",
        "colab": {
          "base_uri": "https://localhost:8080/",
          "height": 34
        },
        "outputId": "b994e379-38e3-4ab2-ae9c-b6040a6bf0d5"
      },
      "source": [
        "sp.encode_as_pieces(nsmc.loc[0, 'document'])"
      ],
      "execution_count": 16,
      "outputs": [
        {
          "output_type": "execute_result",
          "data": {
            "text/plain": [
              "['▁아', '▁더빙', '..', '▁진짜', '▁짜증나', '네요', '▁목소리']"
            ]
          },
          "metadata": {
            "tags": []
          },
          "execution_count": 16
        }
      ]
    },
    {
      "cell_type": "markdown",
      "metadata": {
        "id": "F18QX3wDRzYI",
        "colab_type": "text"
      },
      "source": [
        "## 정리"
      ]
    },
    {
      "cell_type": "code",
      "metadata": {
        "id": "bPkdMfwVQn4A",
        "colab_type": "code",
        "colab": {}
      },
      "source": [
        "from sklearn.feature_extraction.text import CountVectorizer"
      ],
      "execution_count": 17,
      "outputs": []
    },
    {
      "cell_type": "code",
      "metadata": {
        "id": "53SVt1pWQsZu",
        "colab_type": "code",
        "colab": {}
      },
      "source": [
        "cv = CountVectorizer(lowercase=False, tokenizer=sp.encode_as_pieces)"
      ],
      "execution_count": 18,
      "outputs": []
    },
    {
      "cell_type": "code",
      "metadata": {
        "id": "TgJIXcLTQuS0",
        "colab_type": "code",
        "colab": {}
      },
      "source": [
        "tdm = cv.fit_transform(nsmc.loc[:10000, 'document'])"
      ],
      "execution_count": 20,
      "outputs": []
    },
    {
      "cell_type": "code",
      "metadata": {
        "id": "97X-KerAQvrl",
        "colab_type": "code",
        "colab": {}
      },
      "source": [
        "from sklearn.model_selection import train_test_split"
      ],
      "execution_count": 21,
      "outputs": []
    },
    {
      "cell_type": "code",
      "metadata": {
        "id": "Y6D4SGe4Qx2u",
        "colab_type": "code",
        "colab": {}
      },
      "source": [
        "x = tdm\n",
        "y = nsmc.loc[:10000, 'label'].values"
      ],
      "execution_count": 24,
      "outputs": []
    },
    {
      "cell_type": "code",
      "metadata": {
        "id": "OJmDp66IQz8_",
        "colab_type": "code",
        "colab": {}
      },
      "source": [
        "x_train, x_test, y_train, y_test = train_test_split(x, y, test_size=0.2, random_state=42)"
      ],
      "execution_count": 25,
      "outputs": []
    },
    {
      "cell_type": "markdown",
      "metadata": {
        "id": "9n2dXHmrR1uf",
        "colab_type": "text"
      },
      "source": [
        "## 모형"
      ]
    },
    {
      "cell_type": "code",
      "metadata": {
        "id": "9PrIQu_mQ1OB",
        "colab_type": "code",
        "colab": {}
      },
      "source": [
        "import tensorflow as tf"
      ],
      "execution_count": 26,
      "outputs": []
    },
    {
      "cell_type": "code",
      "metadata": {
        "id": "UITCz34xRW5I",
        "colab_type": "code",
        "colab": {}
      },
      "source": [
        "NUM_WORDS = x_train.shape[1]"
      ],
      "execution_count": 33,
      "outputs": []
    },
    {
      "cell_type": "code",
      "metadata": {
        "id": "woMmJI57RL0j",
        "colab_type": "code",
        "colab": {}
      },
      "source": [
        "model = tf.keras.models.Sequential([\n",
        "    tf.keras.layers.Dense(\n",
        "        1, \n",
        "        input_shape=(NUM_WORDS,), \n",
        "        activation='sigmoid',\n",
        "        kernel_regularizer=tf.keras.regularizers.l2(0.001))\n",
        "])"
      ],
      "execution_count": 34,
      "outputs": []
    },
    {
      "cell_type": "code",
      "metadata": {
        "id": "xSUqgR5pRN3l",
        "colab_type": "code",
        "colab": {
          "base_uri": "https://localhost:8080/",
          "height": 187
        },
        "outputId": "11b7c7b1-26ce-470f-d7fd-e97f36eaa2b7"
      },
      "source": [
        "model.summary()"
      ],
      "execution_count": 35,
      "outputs": [
        {
          "output_type": "stream",
          "text": [
            "Model: \"sequential_1\"\n",
            "_________________________________________________________________\n",
            "Layer (type)                 Output Shape              Param #   \n",
            "=================================================================\n",
            "dense_1 (Dense)              (None, 1)                 3180      \n",
            "=================================================================\n",
            "Total params: 3,180\n",
            "Trainable params: 3,180\n",
            "Non-trainable params: 0\n",
            "_________________________________________________________________\n"
          ],
          "name": "stdout"
        }
      ]
    },
    {
      "cell_type": "markdown",
      "metadata": {
        "id": "djWelPDyR3av",
        "colab_type": "text"
      },
      "source": [
        "## 학습"
      ]
    },
    {
      "cell_type": "code",
      "metadata": {
        "id": "ODUvlPyURPmf",
        "colab_type": "code",
        "colab": {}
      },
      "source": [
        "model.compile(optimizer='adam', loss='binary_crossentropy', metrics=['accuracy'])"
      ],
      "execution_count": 36,
      "outputs": []
    },
    {
      "cell_type": "code",
      "metadata": {
        "id": "NzqQH2xuRQ1y",
        "colab_type": "code",
        "colab": {
          "base_uri": "https://localhost:8080/",
          "height": 374
        },
        "outputId": "605a72a4-aee5-4f48-fe7e-e4632f8c02f4"
      },
      "source": [
        "model.fit(x_train.toarray(), y_train, epochs=100, validation_split=0.1,\n",
        "          callbacks=[tf.keras.callbacks.EarlyStopping()])"
      ],
      "execution_count": 37,
      "outputs": [
        {
          "output_type": "stream",
          "text": [
            "Epoch 1/100\n",
            "225/225 [==============================] - 1s 3ms/step - loss: 0.6655 - accuracy: 0.6618 - val_loss: 0.6297 - val_accuracy: 0.7650\n",
            "Epoch 2/100\n",
            "225/225 [==============================] - 1s 2ms/step - loss: 0.6075 - accuracy: 0.7917 - val_loss: 0.5931 - val_accuracy: 0.8050\n",
            "Epoch 3/100\n",
            "225/225 [==============================] - 0s 2ms/step - loss: 0.5714 - accuracy: 0.8206 - val_loss: 0.5688 - val_accuracy: 0.8150\n",
            "Epoch 4/100\n",
            "225/225 [==============================] - 0s 2ms/step - loss: 0.5479 - accuracy: 0.8292 - val_loss: 0.5547 - val_accuracy: 0.8225\n",
            "Epoch 5/100\n",
            "225/225 [==============================] - 1s 2ms/step - loss: 0.5318 - accuracy: 0.8367 - val_loss: 0.5460 - val_accuracy: 0.8313\n",
            "Epoch 6/100\n",
            "225/225 [==============================] - 0s 2ms/step - loss: 0.5206 - accuracy: 0.8414 - val_loss: 0.5401 - val_accuracy: 0.8313\n",
            "Epoch 7/100\n",
            "225/225 [==============================] - 1s 2ms/step - loss: 0.5124 - accuracy: 0.8460 - val_loss: 0.5370 - val_accuracy: 0.8300\n",
            "Epoch 8/100\n",
            "225/225 [==============================] - 0s 2ms/step - loss: 0.5067 - accuracy: 0.8507 - val_loss: 0.5341 - val_accuracy: 0.8288\n",
            "Epoch 9/100\n",
            "225/225 [==============================] - 1s 2ms/step - loss: 0.5027 - accuracy: 0.8518 - val_loss: 0.5330 - val_accuracy: 0.8300\n",
            "Epoch 10/100\n",
            "225/225 [==============================] - 1s 2ms/step - loss: 0.4996 - accuracy: 0.8531 - val_loss: 0.5338 - val_accuracy: 0.8288\n"
          ],
          "name": "stdout"
        },
        {
          "output_type": "execute_result",
          "data": {
            "text/plain": [
              "<tensorflow.python.keras.callbacks.History at 0x7efda2dbb780>"
            ]
          },
          "metadata": {
            "tags": []
          },
          "execution_count": 37
        }
      ]
    },
    {
      "cell_type": "markdown",
      "metadata": {
        "id": "8Tiaqj-5R5iH",
        "colab_type": "text"
      },
      "source": [
        "## 토큰별 가중치"
      ]
    },
    {
      "cell_type": "code",
      "metadata": {
        "id": "dUvRsQL2RTH9",
        "colab_type": "code",
        "colab": {}
      },
      "source": [
        "weights, _ = model.trainable_weights"
      ],
      "execution_count": 38,
      "outputs": []
    },
    {
      "cell_type": "code",
      "metadata": {
        "id": "Dhm-YCCpRlrg",
        "colab_type": "code",
        "colab": {}
      },
      "source": [
        "import pandas as pd\n",
        "token_weight = pd.DataFrame({'토큰': cv.get_feature_names(), '가중치': weights.numpy().flat})"
      ],
      "execution_count": 39,
      "outputs": []
    },
    {
      "cell_type": "code",
      "metadata": {
        "id": "xbommXRURnB4",
        "colab_type": "code",
        "colab": {
          "base_uri": "https://localhost:8080/",
          "height": 204
        },
        "outputId": "9ad0c186-d20c-4910-dd8c-6a48be7598e2"
      },
      "source": [
        "token_weight.sort_values('가중치').head()"
      ],
      "execution_count": 40,
      "outputs": [
        {
          "output_type": "execute_result",
          "data": {
            "text/html": [
              "<div>\n",
              "<style scoped>\n",
              "    .dataframe tbody tr th:only-of-type {\n",
              "        vertical-align: middle;\n",
              "    }\n",
              "\n",
              "    .dataframe tbody tr th {\n",
              "        vertical-align: top;\n",
              "    }\n",
              "\n",
              "    .dataframe thead th {\n",
              "        text-align: right;\n",
              "    }\n",
              "</style>\n",
              "<table border=\"1\" class=\"dataframe\">\n",
              "  <thead>\n",
              "    <tr style=\"text-align: right;\">\n",
              "      <th></th>\n",
              "      <th>토큰</th>\n",
              "      <th>가중치</th>\n",
              "    </tr>\n",
              "  </thead>\n",
              "  <tbody>\n",
              "    <tr>\n",
              "      <th>682</th>\n",
              "      <td>▁쓰레기</td>\n",
              "      <td>-0.725988</td>\n",
              "    </tr>\n",
              "    <tr>\n",
              "      <th>930</th>\n",
              "      <td>▁재미없</td>\n",
              "      <td>-0.624085</td>\n",
              "    </tr>\n",
              "    <tr>\n",
              "      <th>689</th>\n",
              "      <td>▁아깝다</td>\n",
              "      <td>-0.588454</td>\n",
              "    </tr>\n",
              "    <tr>\n",
              "      <th>541</th>\n",
              "      <td>▁별로</td>\n",
              "      <td>-0.551379</td>\n",
              "    </tr>\n",
              "    <tr>\n",
              "      <th>1072</th>\n",
              "      <td>▁최악의</td>\n",
              "      <td>-0.521486</td>\n",
              "    </tr>\n",
              "  </tbody>\n",
              "</table>\n",
              "</div>"
            ],
            "text/plain": [
              "        토큰       가중치\n",
              "682   ▁쓰레기 -0.725988\n",
              "930   ▁재미없 -0.624085\n",
              "689   ▁아깝다 -0.588454\n",
              "541    ▁별로 -0.551379\n",
              "1072  ▁최악의 -0.521486"
            ]
          },
          "metadata": {
            "tags": []
          },
          "execution_count": 40
        }
      ]
    },
    {
      "cell_type": "code",
      "metadata": {
        "id": "nA5zx35MRoIK",
        "colab_type": "code",
        "colab": {
          "base_uri": "https://localhost:8080/",
          "height": 204
        },
        "outputId": "d35bf594-1407-4a4a-b040-c7daf227a70e"
      },
      "source": [
        "token_weight.sort_values('가중치').tail()"
      ],
      "execution_count": 41,
      "outputs": [
        {
          "output_type": "execute_result",
          "data": {
            "text/html": [
              "<div>\n",
              "<style scoped>\n",
              "    .dataframe tbody tr th:only-of-type {\n",
              "        vertical-align: middle;\n",
              "    }\n",
              "\n",
              "    .dataframe tbody tr th {\n",
              "        vertical-align: top;\n",
              "    }\n",
              "\n",
              "    .dataframe thead th {\n",
              "        text-align: right;\n",
              "    }\n",
              "</style>\n",
              "<table border=\"1\" class=\"dataframe\">\n",
              "  <thead>\n",
              "    <tr style=\"text-align: right;\">\n",
              "      <th></th>\n",
              "      <th>토큰</th>\n",
              "      <th>가중치</th>\n",
              "    </tr>\n",
              "  </thead>\n",
              "  <tbody>\n",
              "    <tr>\n",
              "      <th>942</th>\n",
              "      <td>▁재밌게</td>\n",
              "      <td>0.514918</td>\n",
              "    </tr>\n",
              "    <tr>\n",
              "      <th>935</th>\n",
              "      <td>▁재미있</td>\n",
              "      <td>0.529214</td>\n",
              "    </tr>\n",
              "    <tr>\n",
              "      <th>85</th>\n",
              "      <td>^^</td>\n",
              "      <td>0.690314</td>\n",
              "    </tr>\n",
              "    <tr>\n",
              "      <th>1069</th>\n",
              "      <td>▁최고의</td>\n",
              "      <td>0.718136</td>\n",
              "    </tr>\n",
              "    <tr>\n",
              "      <th>1067</th>\n",
              "      <td>▁최고</td>\n",
              "      <td>0.770125</td>\n",
              "    </tr>\n",
              "  </tbody>\n",
              "</table>\n",
              "</div>"
            ],
            "text/plain": [
              "        토큰       가중치\n",
              "942   ▁재밌게  0.514918\n",
              "935   ▁재미있  0.529214\n",
              "85      ^^  0.690314\n",
              "1069  ▁최고의  0.718136\n",
              "1067   ▁최고  0.770125"
            ]
          },
          "metadata": {
            "tags": []
          },
          "execution_count": 41
        }
      ]
    }
  ]
}